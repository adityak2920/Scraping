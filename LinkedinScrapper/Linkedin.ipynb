{
 "cells": [
  {
   "cell_type": "code",
   "execution_count": 151,
   "metadata": {},
   "outputs": [],
   "source": [
    "import time\n",
    "import numpy as np\n",
    "from bs4 import BeautifulSoup as bs\n",
    "import requests\n",
    "import pandas as pd\n",
    "from selenium import webdriver\n",
    "from selenium.webdriver.common.keys import Keys"
   ]
  },
  {
   "cell_type": "code",
   "execution_count": 152,
   "metadata": {},
   "outputs": [],
   "source": [
    "browser = webdriver.Chrome()"
   ]
  },
  {
   "cell_type": "code",
   "execution_count": 153,
   "metadata": {},
   "outputs": [],
   "source": [
    "url = u'https://www.linkedin.com' #First we will need to login otherwise, if LinkedIn will automatically redirect to sign in page.\n",
    "browser.get(url)"
   ]
  },
  {
   "cell_type": "code",
   "execution_count": 154,
   "metadata": {},
   "outputs": [],
   "source": [
    "# for entering Username\n",
    "username = browser.find_element_by_class_name('login-email')\n",
    "username.send_keys('adityak2920@gmail.com')\n",
    "\n",
    "# for entering Password\n",
    "password = browser.find_element_by_class_name('login-password')\n",
    "password.send_keys('Tarakmehta')\n",
    "\n",
    "# locating submit button and mimicing button click\n",
    "log_in_button = browser.find_element_by_xpath('//*[@type=\"submit\"]')\n",
    "log_in_button.click()"
   ]
  },
  {
   "cell_type": "code",
   "execution_count": 155,
   "metadata": {},
   "outputs": [],
   "source": [
    "com_urls = [\"https://www.linkedin.com/company/expertise-events\",\n",
    "\"https://www.linkedin.com/company/jscstone\",\n",
    "\"https://www.linkedin.com/company/exhibitions-&-trade-fairs\",\n",
    "\"https://www.linkedin.com/company/penton-media-europe\",\n",
    "\"https://www.linkedin.com/company/transworld-exhibits\",\n",
    "\"https://www.linkedin.com/company/faitma\",\n",
    "\"https://www.linkedin.com/company/motor-trend-auto-shows-inc\",\n",
    "\"https://www.linkedin.com/company/show-group-enterprises-pty-limited\",\n",
    "\"https://www.linkedin.com/company/golden-triangle-angelnet\",\n",
    "\"https://www.linkedin.com/company/scoop-international\",\n",
    "\"https://www.linkedin.com/company/iaapa\",\n",
    "\"https://www.linkedin.com/company/thetoyassociation\"]"
   ]
  },
  {
   "cell_type": "code",
   "execution_count": 156,
   "metadata": {},
   "outputs": [],
   "source": [
    "designation = [\"Event Co-ordinator\",\n",
    "\"marketing director\",\n",
    "\"PR consultant\",\n",
    "\"Event portfolio director\",\n",
    "\"Marketing Manager\",\n",
    "\"Event Manager\",\n",
    "\"Marcom manager\",\n",
    "\"Brand Marketing Manager\",\n",
    "\"Group Marketing Manager\",\n",
    "\"Digital Marketing Manager\",\n",
    "\"Brand Director\",\n",
    "\"Project Manager\",\n",
    "\"Senior marketing manager\"]"
   ]
  },
  {
   "cell_type": "code",
   "execution_count": 157,
   "metadata": {},
   "outputs": [],
   "source": [
    "con_cap=pd.DataFrame([], columns=['Company name', 'Linkedin company URL', 'Employee first name', 'Employee Last name', 'profile Url', 'Designation', 'location'])"
   ]
  },
  {
   "cell_type": "code",
   "execution_count": 158,
   "metadata": {},
   "outputs": [
    {
     "name": "stdout",
     "output_type": "stream",
     "text": [
      "Emily\n",
      "Andy\n",
      "Yvonne\n",
      "Maria\n",
      "michal\n"
     ]
    }
   ],
   "source": [
    "for curl in com_urls:\n",
    "    c_url = curl+\"/people\"\n",
    "    browser.get(c_url)\n",
    "    time.sleep(1)\n",
    "    body= browser.find_element_by_tag_name('body')\n",
    "    for _ in range(50):\n",
    "        body.send_keys(Keys.PAGE_DOWN)\n",
    "        time.sleep(0.2)\n",
    "    html_source=browser.page_source\n",
    "    sourcedata= html_source.encode('utf-8')\n",
    "    soup=bs(sourcedata, 'html.parser')    \n",
    "    emp_des = soup.body.find_all(class_=\"lt-line-clamp lt-line-clamp--multi-line ember-view\") # emp designation\n",
    "    prof_url = soup.body.find_all('a', class_=\"link-without-visited-state ember-view\")# profile urls\n",
    "    emp_name = soup.body.find_all(class_=\"org-people-profile-card__profile-title t-black lt-line-clamp lt-line-clamp--single-line ember-view\")# emp_name\n",
    "    com_loc = soup.body.find_all(class_=\"org-top-card-summary__info-item org-top-card-summary__headquarter\")# company location\n",
    "    com_name = soup.body.find_all(class_=\"org-top-card-summary__title t-24 t-black truncate\")# company name\n",
    "    for i, emname in enumerate(emp_name):\n",
    "        for desig in designation:\n",
    "            if desig in emp_des[i].text.strip():                \n",
    "                name = emname.text.strip().split()\n",
    "                fname = name[0]\n",
    "                lname = name[1]\n",
    "                cname = com_name[0].text.strip()\n",
    "                purl = url + prof_url[i].attrs[\"href\"]\n",
    "                locname = com_loc[0].text.strip()\n",
    "                print(fname)\n",
    "                data = {'Company name': cname, \n",
    "                        'Linkedin company URL':curl, \n",
    "                        'Employee first name':fname, \n",
    "                        'Employee Last name':lname, \n",
    "                        'profile Url':purl, \n",
    "                        'Designation':emp_des[i].text.strip(), \n",
    "                        'location':locname}\n",
    "                con_cap = con_cap.append(data, ignore_index=True)"
   ]
  },
  {
   "cell_type": "code",
   "execution_count": 159,
   "metadata": {},
   "outputs": [],
   "source": [
    "pd.DataFrame.to_csv(con_cap,'/Users/adityakumar/Desktop/linkedin.csv')"
   ]
  },
  {
   "cell_type": "markdown",
   "metadata": {},
   "source": [
    "# Technical Improvements:"
   ]
  },
  {
   "cell_type": "markdown",
   "metadata": {},
   "source": [
    "On the coding front, this can be improved because here I am searching exact words for designation. So, by changing keywords and by some other ways we can make our code more robust."
   ]
  },
  {
   "cell_type": "code",
   "execution_count": null,
   "metadata": {},
   "outputs": [],
   "source": []
  }
 ],
 "metadata": {
  "kernelspec": {
   "display_name": "Python 3",
   "language": "python",
   "name": "python3"
  },
  "language_info": {
   "codemirror_mode": {
    "name": "ipython",
    "version": 3
   },
   "file_extension": ".py",
   "mimetype": "text/x-python",
   "name": "python",
   "nbconvert_exporter": "python",
   "pygments_lexer": "ipython3",
   "version": "3.6.6"
  }
 },
 "nbformat": 4,
 "nbformat_minor": 2
}
